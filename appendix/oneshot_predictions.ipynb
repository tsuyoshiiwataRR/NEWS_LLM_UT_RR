{
 "cells": [
  {
   "cell_type": "markdown",
   "id": "d538d4b3",
   "metadata": {},
   "source": [
    "# Negraph\n",
    "Here is the notebook used for the research paper\n",
    "- produce GPT estimation of UNGC Principle violation info directly from news text based on raw regulation documentation.\n",
    "- in paper, result is used as the base line"
   ]
  },
  {
   "cell_type": "code",
   "execution_count": 1,
   "id": "84caa84c",
   "metadata": {},
   "outputs": [],
   "source": [
    "import pandas as pd\n",
    "import json\n",
    "import re\n",
    "import numpy as np\n",
    "import os\n",
    "from tqdm import tqdm\n",
    "from openai import AzureOpenAI\n"
   ]
  },
  {
   "cell_type": "code",
   "execution_count": 2,
   "id": "12c72165",
   "metadata": {},
   "outputs": [
    {
     "data": {
      "text/plain": [
       "(200, 2)"
      ]
     },
     "execution_count": 2,
     "metadata": {},
     "output_type": "execute_result"
    }
   ],
   "source": [
    "# read ./labeled_data/ungc_label_200.csv\n",
    "df_label = pd.read_csv('../labeled_data/ungc_label_200.csv')\n",
    "df_label['human_label'] = [\";\".join(human_label.replace(\"[\",\"\").replace(\"]\",\"\").split(\" \")) for human_label in df_label['human_label']]\n",
    "df_label.shape"
   ]
  },
  {
   "cell_type": "code",
   "execution_count": null,
   "id": "817b4512",
   "metadata": {},
   "outputs": [
    {
     "data": {
      "text/plain": [
       "(204, 5)"
      ]
     },
     "execution_count": 3,
     "metadata": {},
     "output_type": "execute_result"
    }
   ],
   "source": [
    "df_doc = pd.read_parquet('research_paper_data.parquet')\n",
    "df_doc = df_doc[df_doc['uuid'].isin(df_label['uuid'])][['uuid','published','title','text','json_entities']].copy()\n",
    "df_doc.shape"
   ]
  },
  {
   "cell_type": "code",
   "execution_count": null,
   "id": "738a4324",
   "metadata": {},
   "outputs": [],
   "source": [
    "MODEL_NAME = \"gpt-4o-mini-research\"\n",
    "MODEL_NAME_STR = MODEL_NAME.replace(\"-\", \"_\").replace(\".\", \"_\")\n",
    "CHAT_COMPLETION_PARAMS = {\n",
    "    \"model\": MODEL_NAME,\n",
    "    \"temperature\": 0,\n",
    "    \"top_p\": 0,\n",
    "    \"seed\": 42,\n",
    "}\n",
    "\n",
    "client = AzureOpenAI(\n",
    "    azure_endpoint=os.getenv('AZURE_ENDPOINT'),\n",
    "    api_key=os.getenv('AZURE_API_KEY'),\n",
    "    api_version=os.getenv('AZURE_API_VERSION')\n",
    ")\n"
   ]
  },
  {
   "cell_type": "code",
   "execution_count": 5,
   "id": "e214fe41",
   "metadata": {},
   "outputs": [],
   "source": [
    "query_regulation = \"\"\"\n",
    "# Task: Extract the UNGC Principles Violations from News Articles\n",
    "\n",
    "You are an expert in ESG risk manegement. \n",
    "Do not infer or assume meaning that is not explicitly present in the text.\n",
    "\n",
    "Identify if news articles indicate potential violations in each of the 10 UNGC Principles. \n",
    "The goal is to provide a list of the UNGC Principles violated based on news article.\n",
    "\n",
    "## Important Instructions:\n",
    "- Output only in the format specified below\n",
    "- If no relevent information found , return an empty array\n",
    "\n",
    "## Description of UNGC Principles:\n",
    "Principle 1 (Human Rights): Businesses should support and respect the protection of internationally proclaimed human rights.\n",
    "Principle 2 (Human Rights): Make sure that they are not complicit in human rights abuses.\n",
    "Principle 3 (Labour): Businesses should uphold the freedom of association and the effective recognition of the right to collective bargaining.\n",
    "Principle 4 (Labour): The elimination of all forms of forced and compulsory labour.\n",
    "Principle 5 (Labour): The effective abolition of child labour.\n",
    "Principle 6 (Labour): The elimination of discrimination in respect of employment and occupation.\n",
    "Principle 7 (Environment): Businesses should support a precautionary approach to environmental challenges.\n",
    "Principle 8 (Environment): Undertake initiatives to promote greater environmental responsibility.\n",
    "Principle 9 (Environment): Encourage the development and diffusion of environmentally friendly technologies.\n",
    "Principle 10 (Anti-Corruption): Businesses should work against corruption in all its forms, including extortion and bribery.\n",
    "\n",
    "## Expected JSON Output Format\n",
    "{\n",
    "    1, 3, 7, 10\n",
    "}\n",
    "\n",
    "## Final Notes:\n",
    "- Prioritize accuracy over quantity of extractions\n",
    "- You must only match text if it exactly or strongly resembles one of the known patterns.\n",
    "- Do not infer or assume meaning that is not explicitly present in the text.\n",
    "- Do not output anything except the matched patterns in the specified format.\n",
    "\n",
    "# Follow these 2 steps : \n",
    "1. Identify the potential violation in each of the 10 UNGC Principles.\n",
    "2. Output only the numbering of the UNGC Principles in the specified format.\n",
    "    Ex: If UNPC 1, 3, 7, and 10 are violated, output:\n",
    "```json\n",
    "{\n",
    "    1, 3, 7, 10\n",
    "}\n",
    "```\n",
    "\"\"\""
   ]
  },
  {
   "cell_type": "code",
   "execution_count": 6,
   "id": "b64fb1b5",
   "metadata": {},
   "outputs": [
    {
     "name": "stderr",
     "output_type": "stream",
     "text": [
      "100%|██████████| 204/204 [01:51<00:00,  1.83it/s]\n"
     ]
    }
   ],
   "source": [
    "df_doc['ungc_patterns'] = ''\n",
    "for index, row in tqdm(df_doc.iterrows(), total=len(df_doc)):\n",
    "    if row['ungc_patterns'] != '' and row['ungc_patterns'] != 'ERROR' and type(row['ungc_patterns']) is str:\n",
    "        continue\n",
    "    message_text = [\n",
    "        {\"role\": \"system\",\n",
    "         \"content\": query_regulation},\n",
    "        {\"role\": \"user\", \"content\": f\"\"\"\n",
    "        # Article\n",
    "        {row['title'] if row['title'] else ''}\n",
    "        {row['text'] if row['text'] else ''}\n",
    "\n",
    "        # Entities\n",
    "        {row['json_entities'] if row['json_entities'] else ''}\n",
    "        \n",
    "        # Output\n",
    "        \"\"\"}\n",
    "    ]\n",
    "    try:\n",
    "        completion = client.chat.completions.create(\n",
    "            messages=message_text,\n",
    "            **CHAT_COMPLETION_PARAMS\n",
    "            )\n",
    "        df_doc.at[index, 'ungc_patterns'] = completion.choices[0].message.content\n",
    "    except Exception as e:\n",
    "        print(f\"Error processing document: {e}\")\n",
    "        df_doc.at[index, 'ungc_patterns'] = 'ERROR'"
   ]
  },
  {
   "cell_type": "code",
   "execution_count": 7,
   "id": "18ae6bbc",
   "metadata": {},
   "outputs": [],
   "source": [
    "# convert the result to a string jointed with \";\"\n",
    "df_doc['ungc_patterns'] = df_doc['ungc_patterns'].apply(lambda x: [int(i) for i in re.findall(r'\\d+', x)] if isinstance(x, str) else [])"
   ]
  },
  {
   "cell_type": "code",
   "execution_count": 15,
   "id": "d708ed2c",
   "metadata": {},
   "outputs": [],
   "source": [
    "list_labels = []\n",
    "for i in range(df_doc.shape[0]):\n",
    "    patterns =  df_doc['ungc_patterns'].iloc[i]\n",
    "    if len(patterns) == 0:\n",
    "        list_labels.append(np.nan)\n",
    "    else:\n",
    "        list_labels.append(\";\".join([str(i) for i in patterns]))"
   ]
  },
  {
   "cell_type": "code",
   "execution_count": 16,
   "id": "ce2c03b1",
   "metadata": {},
   "outputs": [],
   "source": [
    "df_doc['ungc_labels'] = list_labels"
   ]
  },
  {
   "cell_type": "code",
   "execution_count": 17,
   "id": "fb4fe224",
   "metadata": {},
   "outputs": [
    {
     "data": {
      "text/plain": [
       "(204, 7)"
      ]
     },
     "execution_count": 17,
     "metadata": {},
     "output_type": "execute_result"
    }
   ],
   "source": [
    "df_doc.shape"
   ]
  },
  {
   "cell_type": "code",
   "execution_count": 18,
   "id": "ceb6d27c",
   "metadata": {},
   "outputs": [],
   "source": [
    "# save the result to a parquet file\n",
    "df_doc.to_parquet('predicted_research_data_ungc_patterns_oneshot.parquet', index=False)"
   ]
  },
  {
   "cell_type": "code",
   "execution_count": null,
   "id": "40977aee",
   "metadata": {},
   "outputs": [],
   "source": []
  },
  {
   "cell_type": "code",
   "execution_count": null,
   "id": "35ac33ed",
   "metadata": {},
   "outputs": [],
   "source": []
  },
  {
   "cell_type": "code",
   "execution_count": null,
   "id": "335934c3",
   "metadata": {},
   "outputs": [],
   "source": []
  },
  {
   "cell_type": "code",
   "execution_count": null,
   "id": "bc2e76d7",
   "metadata": {},
   "outputs": [],
   "source": []
  },
  {
   "cell_type": "code",
   "execution_count": null,
   "id": "b4280f16",
   "metadata": {},
   "outputs": [],
   "source": []
  }
 ],
 "metadata": {
  "kernelspec": {
   "display_name": "GPT",
   "language": "python",
   "name": "python3"
  },
  "language_info": {
   "codemirror_mode": {
    "name": "ipython",
    "version": 3
   },
   "file_extension": ".py",
   "mimetype": "text/x-python",
   "name": "python",
   "nbconvert_exporter": "python",
   "pygments_lexer": "ipython3",
   "version": "3.9.18"
  }
 },
 "nbformat": 4,
 "nbformat_minor": 5
}
